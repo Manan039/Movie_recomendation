{
 "cells": [
  {
   "cell_type": "code",
   "execution_count": 10,
   "metadata": {},
   "outputs": [
    {
     "name": "stdout",
     "output_type": "stream",
     "text": [
      "Collecting fuzzywuzzy\n",
      "  Downloading https://files.pythonhosted.org/packages/43/ff/74f23998ad2f93b945c0309f825be92e04e0348e062026998b5eefef4c33/fuzzywuzzy-0.18.0-py2.py3-none-any.whl\n",
      "Installing collected packages: fuzzywuzzy\n",
      "Successfully installed fuzzywuzzy-0.18.0\n",
      "Note: you may need to restart the kernel to use updated packages.\n"
     ]
    }
   ],
   "source": [
    "pip install fuzzywuzzy"
   ]
  },
  {
   "cell_type": "code",
   "execution_count": 37,
   "metadata": {},
   "outputs": [],
   "source": [
    "import numpy as np\n",
    "import pandas as pd\n",
    "import seaborn as sns \n",
    "import os\n",
    "from scipy.sparse import csr_matrix\n",
    "from sklearn.neighbors import NearestNeighbors\n",
    "from fuzzywuzzy import process\n",
    "from tkinter import *\n",
    "from PIL import Image,ImageTk\n",
    "\n",
    "import warnings\n",
    "warnings.filterwarnings('ignore')"
   ]
  },
  {
   "cell_type": "code",
   "execution_count": 38,
   "metadata": {},
   "outputs": [],
   "source": [
    "movies='movies.csv'\n",
    "ratings=\"ratings.csv\"\n",
    "df_movies=pd.read_csv(movies, usecols=['movieId','title'],dtype={'movieId':'int32','title':'str'})\n",
    "df_ratings=pd.read_csv(ratings, usecols=['userId','movieId','rating'],dtype={'userId':'int32','movieId':'int32','rating':'float32'})"
   ]
  },
  {
   "cell_type": "code",
   "execution_count": 39,
   "metadata": {},
   "outputs": [
    {
     "data": {
      "text/html": [
       "<div>\n",
       "<style scoped>\n",
       "    .dataframe tbody tr th:only-of-type {\n",
       "        vertical-align: middle;\n",
       "    }\n",
       "\n",
       "    .dataframe tbody tr th {\n",
       "        vertical-align: top;\n",
       "    }\n",
       "\n",
       "    .dataframe thead th {\n",
       "        text-align: right;\n",
       "    }\n",
       "</style>\n",
       "<table border=\"1\" class=\"dataframe\">\n",
       "  <thead>\n",
       "    <tr style=\"text-align: right;\">\n",
       "      <th></th>\n",
       "      <th>movieId</th>\n",
       "      <th>title</th>\n",
       "    </tr>\n",
       "  </thead>\n",
       "  <tbody>\n",
       "    <tr>\n",
       "      <th>0</th>\n",
       "      <td>1</td>\n",
       "      <td>Toy Story (1995)</td>\n",
       "    </tr>\n",
       "    <tr>\n",
       "      <th>1</th>\n",
       "      <td>2</td>\n",
       "      <td>Jumanji (1995)</td>\n",
       "    </tr>\n",
       "    <tr>\n",
       "      <th>2</th>\n",
       "      <td>3</td>\n",
       "      <td>Grumpier Old Men (1995)</td>\n",
       "    </tr>\n",
       "    <tr>\n",
       "      <th>3</th>\n",
       "      <td>4</td>\n",
       "      <td>Waiting to Exhale (1995)</td>\n",
       "    </tr>\n",
       "    <tr>\n",
       "      <th>4</th>\n",
       "      <td>5</td>\n",
       "      <td>Father of the Bride Part II (1995)</td>\n",
       "    </tr>\n",
       "  </tbody>\n",
       "</table>\n",
       "</div>"
      ],
      "text/plain": [
       "   movieId                               title\n",
       "0        1                    Toy Story (1995)\n",
       "1        2                      Jumanji (1995)\n",
       "2        3             Grumpier Old Men (1995)\n",
       "3        4            Waiting to Exhale (1995)\n",
       "4        5  Father of the Bride Part II (1995)"
      ]
     },
     "execution_count": 39,
     "metadata": {},
     "output_type": "execute_result"
    }
   ],
   "source": [
    "df_movies.head()"
   ]
  },
  {
   "cell_type": "code",
   "execution_count": 40,
   "metadata": {},
   "outputs": [
    {
     "data": {
      "text/html": [
       "<div>\n",
       "<style scoped>\n",
       "    .dataframe tbody tr th:only-of-type {\n",
       "        vertical-align: middle;\n",
       "    }\n",
       "\n",
       "    .dataframe tbody tr th {\n",
       "        vertical-align: top;\n",
       "    }\n",
       "\n",
       "    .dataframe thead th {\n",
       "        text-align: right;\n",
       "    }\n",
       "</style>\n",
       "<table border=\"1\" class=\"dataframe\">\n",
       "  <thead>\n",
       "    <tr style=\"text-align: right;\">\n",
       "      <th></th>\n",
       "      <th>userId</th>\n",
       "      <th>movieId</th>\n",
       "      <th>rating</th>\n",
       "    </tr>\n",
       "  </thead>\n",
       "  <tbody>\n",
       "    <tr>\n",
       "      <th>0</th>\n",
       "      <td>1</td>\n",
       "      <td>1</td>\n",
       "      <td>4.0</td>\n",
       "    </tr>\n",
       "    <tr>\n",
       "      <th>1</th>\n",
       "      <td>1</td>\n",
       "      <td>3</td>\n",
       "      <td>4.0</td>\n",
       "    </tr>\n",
       "    <tr>\n",
       "      <th>2</th>\n",
       "      <td>1</td>\n",
       "      <td>6</td>\n",
       "      <td>4.0</td>\n",
       "    </tr>\n",
       "    <tr>\n",
       "      <th>3</th>\n",
       "      <td>1</td>\n",
       "      <td>47</td>\n",
       "      <td>5.0</td>\n",
       "    </tr>\n",
       "    <tr>\n",
       "      <th>4</th>\n",
       "      <td>1</td>\n",
       "      <td>50</td>\n",
       "      <td>5.0</td>\n",
       "    </tr>\n",
       "  </tbody>\n",
       "</table>\n",
       "</div>"
      ],
      "text/plain": [
       "   userId  movieId  rating\n",
       "0       1        1     4.0\n",
       "1       1        3     4.0\n",
       "2       1        6     4.0\n",
       "3       1       47     5.0\n",
       "4       1       50     5.0"
      ]
     },
     "execution_count": 40,
     "metadata": {},
     "output_type": "execute_result"
    }
   ],
   "source": [
    "df_ratings.head()"
   ]
  },
  {
   "cell_type": "code",
   "execution_count": 41,
   "metadata": {},
   "outputs": [],
   "source": [
    "#Sparse Matrix\n",
    "movies_users=df_ratings.pivot(index='movieId',columns='userId',values='rating').fillna(0)\n",
    "movies_users\n",
    "mat_movies_users=csr_matrix(movies_users.values)\n"
   ]
  },
  {
   "cell_type": "code",
   "execution_count": 42,
   "metadata": {},
   "outputs": [],
   "source": [
    "#Euclidean distance\n",
    "#Manhattan Distance\n",
    "#Cosine similarity\n",
    "model_knn=NearestNeighbors(metric='cosine',algorithm='brute', n_neighbors=20)"
   ]
  },
  {
   "cell_type": "code",
   "execution_count": 43,
   "metadata": {},
   "outputs": [
    {
     "data": {
      "text/plain": [
       "NearestNeighbors(algorithm='brute', leaf_size=30, metric='cosine',\n",
       "                 metric_params=None, n_jobs=None, n_neighbors=20, p=2,\n",
       "                 radius=1.0)"
      ]
     },
     "execution_count": 43,
     "metadata": {},
     "output_type": "execute_result"
    }
   ],
   "source": [
    "model_knn.fit(mat_movies_users)"
   ]
  },
  {
   "cell_type": "code",
   "execution_count": 44,
   "metadata": {},
   "outputs": [
    {
     "name": "stdout",
     "output_type": "stream",
     "text": [
      "Jumanji (1995)\n"
     ]
    }
   ],
   "source": [
    "print(df_movies['title'][1])"
   ]
  },
  {
   "cell_type": "code",
   "execution_count": 45,
   "metadata": {},
   "outputs": [],
   "source": [
    "#Recommender(movie_name)=> List of movies recommended\n",
    "def recommender(movie_name,data,model,n_recommendations):\n",
    "    model.fit(data)\n",
    "    idx=process.extractOne(movie_name,df_movies['title'])[2]\n",
    "    print('Movie Selected : ',df_movies['title'][idx], 'Index: ',idx)\n",
    "    print('Searching For Recommendation.......')\n",
    "    distances,indices=model.kneighbors(data[idx],n_neighbors=n_recommendations)\n",
    "    for i in indices:\n",
    "        rec=df_movies['title'][i].where(i!=idx).values\n",
    "        \n",
    "    \n",
    "    return rec\n"
   ]
  },
  {
   "cell_type": "code",
   "execution_count": 46,
   "metadata": {},
   "outputs": [
    {
     "name": "stdout",
     "output_type": "stream",
     "text": [
      "Movie Selected :  Munna bhai M.B.B.S. (2003) Index:  9519\n",
      "Searching For Recommendation.......\n",
      "['Rough Night (2017)' 'Okja (2017)' 'Mommy (2014)'\n",
      " 'Mystère à la Tour Eiffel (2015)'\n",
      " 'The Unauthorized Saved by the Bell Story (2014)']\n"
     ]
    }
   ],
   "source": [
    "print(recommender('mumma bhai mbbs',mat_movies_users,model_knn,5))          "
   ]
  },
  {
   "cell_type": "code",
   "execution_count": 55,
   "metadata": {},
   "outputs": [
    {
     "data": {
      "text/plain": [
       "<__main__.Gui at 0x1b87ba49b70>"
      ]
     },
     "execution_count": 55,
     "metadata": {},
     "output_type": "execute_result"
    }
   ],
   "source": [
    "class Gui:\n",
    "    def __init__(s):\n",
    "        s.loginpage()\n",
    "    def loginpage(s):\n",
    "        try:\n",
    "            s.scr.destroy()\n",
    "        except:\n",
    "            pass\n",
    "        \n",
    "        s.scr=Tk()\n",
    "        s.scr.geometry('1000x500+0+0')\n",
    "        \n",
    "        l=Label(s.scr,bg='grey',fg='white',font=('times',15,'bold'),text='MOVIE RECOMENDATION SYSTEM')\n",
    "        l.pack(side=TOP,fill=X)\n",
    "        \n",
    "        load=Image.open(\"movie-and-popcorn.jpg\")\n",
    "        render=ImageTk.PhotoImage(load)\n",
    "        \n",
    "        img=Label(image=render)\n",
    "        img.pack(fill=BOTH)\n",
    "        \n",
    "        s.l1=Label(s.scr,bg='grey',fg='white',font=('times',20,'bold'),text='Enter Movie Name')#Movie name entry\n",
    "        s.l1.pack()\n",
    "        s.l1.place(x=150,y=100)\n",
    "        \n",
    "        \n",
    "        s.user=Text(s.scr,bg='grey',fg='white',height=1,font=('times',20,'bold'),width=30)#Movie name entry\n",
    "        s.user.pack()\n",
    "        s.user.place(x=450,y=100)\n",
    "        \n",
    "        \n",
    "        #b=Button(s.scr,text='Predict',bg='black',fg='white',font=('times',15,'bold'))# Predict Movies\n",
    "        #b.place(x=350,y=370)\n",
    "        \n",
    "        s.b=Button(s.scr,text='Show Movies',command=s.predict,bg='grey',fg='white',font=('times',15,'bold'),width=30)# Show movies\n",
    "        s.b.place(x=300,y=420)\n",
    "        \n",
    "        \n",
    "        \n",
    "        s.scr.title(\"Movie Recomendation System\")\n",
    "        s.scr.mainloop()\n",
    "    def predict(s):\n",
    "        \n",
    "        ip=s.user.get(\"1.0\",\"end-1c\")\n",
    "        if ip is '':\n",
    "            \n",
    "            a=Label(s.scr,bg='grey',fg='white',font=('times',30,'bold'))\n",
    "            a.place(x=320,y=150)\n",
    "            a.config(text=\"Name a movie\") \n",
    "        \n",
    "        else :\n",
    "            \n",
    "            recc=recommender(ip,mat_movies_users,model_knn,5)\n",
    "            \n",
    "            a=Label(s.scr,bg='grey',fg='white',font=('times',10,'bold'))\n",
    "            a.place(x=320,y=150)\n",
    "            a.config(text=recc[0])\n",
    "            \n",
    "            b=Label(s.scr,bg='grey',fg='white',font=('times',10,))\n",
    "            b.place(x=320,y=170)\n",
    "            b.config(text=recc[1])\n",
    "            \n",
    "            c=Label(s.scr,bg='grey',fg='white',font=('times',10,'bold'))\n",
    "            c.place(x=320,y=190)\n",
    "            c.config(text=recc[2])\n",
    "            \n",
    "            d=Label(s.scr,bg='grey',fg='white',font=('times',10,'bold'))\n",
    "            d.place(x=320,y=210)\n",
    "            d.config(text=recc[3])\n",
    "            \n",
    "            e=Label(s.scr,bg='grey',fg='white',font=('times',10,'bold'))\n",
    "            e.place(x=320,y=230)\n",
    "            e.config(text=recc[4])\n",
    "\n",
    "Gui()"
   ]
  },
  {
   "cell_type": "code",
   "execution_count": null,
   "metadata": {},
   "outputs": [],
   "source": []
  },
  {
   "cell_type": "code",
   "execution_count": null,
   "metadata": {},
   "outputs": [],
   "source": []
  }
 ],
 "metadata": {
  "kernelspec": {
   "display_name": "Python 3",
   "language": "python",
   "name": "python3"
  },
  "language_info": {
   "codemirror_mode": {
    "name": "ipython",
    "version": 3
   },
   "file_extension": ".py",
   "mimetype": "text/x-python",
   "name": "python",
   "nbconvert_exporter": "python",
   "pygments_lexer": "ipython3",
   "version": "3.7.3"
  }
 },
 "nbformat": 4,
 "nbformat_minor": 4
}
